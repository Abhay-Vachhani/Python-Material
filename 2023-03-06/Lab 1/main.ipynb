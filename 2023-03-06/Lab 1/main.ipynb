{
 "cells": [
  {
   "cell_type": "code",
   "execution_count": 2,
   "metadata": {},
   "outputs": [],
   "source": [
    "from PIL import Image\n",
    "import os"
   ]
  },
  {
   "cell_type": "code",
   "execution_count": 106,
   "metadata": {},
   "outputs": [],
   "source": [
    "images = []\n",
    "imgWidth = 0\n",
    "imgHeight = 0\n",
    "imgMaxHeight = 0\n",
    "for name in os.listdir('images'):\n",
    "    im = Image.open(f'images/{name}')\n",
    "    im = im.convert('RGB')\n",
    "    imgWidth = im.width if im.width > imgWidth else imgWidth\n",
    "    imgMaxHeight = im.height if im.height > imgMaxHeight else imgMaxHeight\n",
    "    imgHeight += im.height\n",
    "    images.append(im)"
   ]
  },
  {
   "cell_type": "code",
   "execution_count": 94,
   "metadata": {},
   "outputs": [],
   "source": []
  },
  {
   "cell_type": "code",
   "execution_count": 121,
   "metadata": {},
   "outputs": [],
   "source": [
    "img = Image.new('RGB', (imgWidth * 2 + 15, (len(images) / 2).__ceil__() * 5 + 5 + ((len(images) / 2).__ceil__() * imgMaxHeight)), color=(180, 180, 180))\n",
    "preI = 0\n",
    "for i, image in zip(range(len(images)), images):\n",
    "    x = 0 if i % 2 == 0 else imgWidth + 5\n",
    "    y = preI\n",
    "    img.paste(image, (x + 5, y + 5))\n",
    "    if i % 2 == 1:\n",
    "        preI = y + imgMaxHeight + 5"
   ]
  },
  {
   "cell_type": "code",
   "execution_count": null,
   "metadata": {},
   "outputs": [],
   "source": []
  },
  {
   "cell_type": "code",
   "execution_count": null,
   "metadata": {},
   "outputs": [],
   "source": []
  }
 ],
 "metadata": {
  "kernelspec": {
   "display_name": "Python 3.9.6 64-bit",
   "language": "python",
   "name": "python3"
  },
  "language_info": {
   "codemirror_mode": {
    "name": "ipython",
    "version": 3
   },
   "file_extension": ".py",
   "mimetype": "text/x-python",
   "name": "python",
   "nbconvert_exporter": "python",
   "pygments_lexer": "ipython3",
   "version": "3.9.6"
  },
  "orig_nbformat": 4,
  "vscode": {
   "interpreter": {
    "hash": "11938c6bc6919ae2720b4d5011047913343b08a43b18698fd82dedb0d4417594"
   }
  }
 },
 "nbformat": 4,
 "nbformat_minor": 2
}
